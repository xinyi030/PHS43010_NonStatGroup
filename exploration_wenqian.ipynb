{
 "cells": [
  {
   "attachments": {},
   "cell_type": "markdown",
   "metadata": {},
   "source": [
    "## Simulation\n",
    "### Variables for simulation\n",
    "* Number of doses\n",
    "* TTL\n",
    "* Dose-toxicity model\n",
    "* Dose-toxicity sketon\n",
    "* Method of inference\n",
    "* Decision rules\n",
    "* Samlpe size and cohort size\n",
    "* Safety modification\n",
    "* Stoping rules"
   ]
  },
  {
   "cell_type": "code",
   "execution_count": null,
   "metadata": {},
   "outputs": [],
   "source": [
    "import pymc as pm\n",
    "import numpy as np\n",
    "from tqdm.notebook import tqdm\n",
    "from scipy.stats import bernoulli\n",
    "import logging"
   ]
  },
  {
   "cell_type": "code",
   "execution_count": null,
   "metadata": {},
   "outputs": [],
   "source": [
    "# Define a two-parameter logistic regression model.\n",
    "# The parameters are the intercept (b1) and the slope (b2).\n",
    "def two_para_logit(d, b1, b2):\n",
    "    return np.exp(b1 + b2*d) / (1 + np.exp(b1 + b2*d))"
   ]
  },
  {
   "cell_type": "code",
   "execution_count": null,
   "metadata": {},
   "outputs": [],
   "source": [
    "# Define the dose selection function.\n",
    "def bcrm_dose_selection(p_prior, sample_size=36, ttl=1/3, d_levels=np.array([0.5, 1, 3, 5, 6]), b1_prior=0, b2_prior=1):\n",
    "    # Generate a sample of patients.\n",
    "    patient_dose = np.random.choice(d_levels, size=sample_size)\n",
    "    patient_toxicity = bernoulli.rvs(p_prior[np.searchsorted(d_levels, patient_dose)])\n",
    "    dose_patient_num = np.array([np.sum(patient_dose == d) for d in d_levels])\n",
    "\n",
    "    # likelihood\n",
    "    with pm.Model() as model:\n",
    "        # prior\n",
    "        b1 = pm.Normal('b1', mu=b1_prior, tau=10)\n",
    "        b2 = pm.Exponential('b2', lam=b2_prior)\n",
    "        \n",
    "        # likelihood\n",
    "        p_toxicity = pm.Deterministic('p_toxicity', two_para_logit(patient_dose, b1, b2))\n",
    "        # print(patient_toxicity)\n",
    "        likelihood = pm.Bernoulli('toxicity', p=p_toxicity, observed=patient_toxicity)\n",
    "\n",
    "        # sample\n",
    "        logging.getLogger('pymc').setLevel(logging.ERROR)\n",
    "        trace = pm.sample(1000, tune=500, cores=4, chains=2)\n",
    "\n",
    "    # Find the MTD.\n",
    "    b1_posterior = np.mean(trace['posterior']['b1']).item()\n",
    "    b2_posterior = np.mean(trace['posterior']['b2']).item()\n",
    "    # print('b1_posterior: ', b1_posterior)\n",
    "    # print('b2_posterior: ', b2_posterior)\n",
    "    p_posterior = two_para_logit(d_levels, b1_posterior, b2_posterior)\n",
    "    mtd = d_levels[np.argmin(np.abs(p_posterior - ttl))]\n",
    "    return mtd, dose_patient_num"
   ]
  },
  {
   "cell_type": "code",
   "execution_count": null,
   "metadata": {},
   "outputs": [],
   "source": [
    "# Define the simulation function.\n",
    "def sim_bcrm(p_prior, N=1000, d_levels=np.array([0.5, 1, 3, 5, 6])):\n",
    "    mtds = np.zeros((N, len(d_levels)))\n",
    "    patient_doses = np.zeros((N, len(d_levels)))\n",
    "    for i in tqdm(range(N)):\n",
    "        mtd, patients = bcrm_dose_selection(p_prior)\n",
    "        mtds[i, :] = (mtd == d_levels)\n",
    "        patient_doses[i, :] = patients\n",
    "    return mtds, patient_doses"
   ]
  },
  {
   "cell_type": "code",
   "execution_count": null,
   "metadata": {},
   "outputs": [],
   "source": [
    "# Scenario 1\n",
    "p_prior_1 = np.array([0.25, 0.3, 0.5, 0.6, 0.7])\n",
    "mtd_1, patient_doses_1 = sim_bcrm(p_prior_1)"
   ]
  },
  {
   "cell_type": "code",
   "execution_count": null,
   "metadata": {},
   "outputs": [],
   "source": [
    "print(np.mean(mtd_1, axis=0))\n",
    "print(np.mean(patient_doses_1, axis=0))"
   ]
  },
  {
   "cell_type": "code",
   "execution_count": null,
   "metadata": {},
   "outputs": [],
   "source": []
  }
 ],
 "metadata": {
  "kernelspec": {
   "display_name": "Python 3",
   "language": "python",
   "name": "python3"
  },
  "language_info": {
   "codemirror_mode": {
    "name": "ipython",
    "version": 3
   },
   "file_extension": ".py",
   "mimetype": "text/x-python",
   "name": "python",
   "nbconvert_exporter": "python",
   "pygments_lexer": "ipython3",
   "version": "3.11.3"
  }
 },
 "nbformat": 4,
 "nbformat_minor": 2
}
