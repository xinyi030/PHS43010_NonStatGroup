{
 "cells": [
  {
   "cell_type": "code",
   "execution_count": null,
   "metadata": {},
   "outputs": [],
   "source": [
    "import pandas as pd\n",
    "import numpy as np\n",
    "from sklearn.linear_model import LogisticRegression\n",
    "from run_logistic_simulations import sim_data\n",
    "from tqdm import tqdm\n",
    "import matplotlib.pyplot as plt\n",
    "import plotly.express as px\n",
    "import numpy as np\n",
    "import seaborn as sns\n",
    "import warnings\n"
   ]
  },
  {
   "cell_type": "code",
   "execution_count": null,
   "metadata": {},
   "outputs": [],
   "source": [
    "true_toxic_prob_s1 = (0.25, 0.3, 0.5, 0.6, 0.7) # Given by assignment instructions, scenario 1\n",
    "true_toxic_prob_s2 = (0.01, 0.05, 0.2, 0.3, 0.5) # Given by assignment instructions, scenario 2\n",
    "doses = np.array([0.5, 1, 3, 5, 6]) # From figure 6 and in units (mg/m^2 per day)\n",
    "num_sims = 5000"
   ]
  },
  {
   "cell_type": "code",
   "execution_count": null,
   "metadata": {},
   "outputs": [],
   "source": [
    "def original_simulation(true_toxic_probabilities, num_sims=5000):\n",
    "    results = []\n",
    "    proportion_true_dose_sampled = []\n",
    "    for sim_run in tqdm(range(num_sims)):\n",
    "        selected_dose_idx = [0]\n",
    "        data = sim_data(0, true_toxic_probabilities)\n",
    "        X = data['doses'].values.reshape(-1, 1) # only one feature so needs to be reshaped to a column vector\n",
    "        y = data['toxicity_event']\n",
    "        only_one_class_bool = (y == 0).sum() == len(y)\n",
    "        if only_one_class_bool:\n",
    "            next_dose_idx = 4\n",
    "        elif (y == 1).sum() == len(y):\n",
    "            next_dose_idx = 0\n",
    "        else:\n",
    "            clf = LogisticRegression(random_state=0).fit(X, y)\n",
    "            predicted_prob_toxic = clf.predict_proba(doses.reshape(-1, 1))[:, 1]\n",
    "            next_dose_idx = np.argmin(np.abs(predicted_prob_toxic - 0.33))\n",
    "        selected_dose_idx.append(next_dose_idx)\n",
    "        for sample in range(11):\n",
    "            new_data = sim_data(next_dose_idx, true_toxic_probabilities)\n",
    "            data = pd.concat([data, new_data], axis=0, ignore_index=True)\n",
    "            X = data['doses'].values.reshape(-1, 1) # only one feature so needs to be reshaped to a column vector\n",
    "            y = data['toxicity_event']\n",
    "            only_one_class_bool = (y == 0).sum() == len(y)\n",
    "            if only_one_class_bool:\n",
    "                next_dose_idx = 4\n",
    "            elif (y == 1).sum() == len(y):\n",
    "                next_dose_idx = 0\n",
    "            else:\n",
    "                clf = LogisticRegression(random_state=0).fit(X, y)\n",
    "                predicted_prob_toxic = clf.predict_proba(doses.reshape(-1, 1))[:, 1]\n",
    "                next_dose_idx = np.argmin(np.abs(predicted_prob_toxic - 0.33))\n",
    "            selected_dose_idx.append(next_dose_idx)\n",
    "        results.append(next_dose_idx) # best dose for each sim\n",
    "        proportion_true_dose_sampled.append(np.array(selected_dose_idx))    \n",
    "    results_df = pd.DataFrame({\"selected_dose\":results, \"doses_sampled\":proportion_true_dose_sampled})\n",
    "    return results_df"
   ]
  },
  {
   "cell_type": "code",
   "execution_count": null,
   "metadata": {},
   "outputs": [],
   "source": [
    "results_df_s1 = original_simulation(true_toxic_prob_s1, num_sims=5000)\n",
    "accuracy_s1 = np.mean(results_df_s1['selected_dose'] == 1)\n",
    "results_df_s1['proportion_selected_dose_sampled'] = results_df_s1.apply(lambda x: np.mean(x['doses_sampled'] == x['selected_dose']), axis=1)"
   ]
  },
  {
   "cell_type": "code",
   "execution_count": null,
   "metadata": {},
   "outputs": [],
   "source": [
    "print(f\"Accuracy for scenario 1: {round(accuracy_s1 * 100, 2)}%\")"
   ]
  },
  {
   "cell_type": "code",
   "execution_count": null,
   "metadata": {},
   "outputs": [],
   "source": [
    "results_df_s2 = original_simulation(true_toxic_prob_s2, num_sims=num_sims)\n",
    "accuracy_s2 = np.mean(results_df_s2['selected_dose'] == 3)\n",
    "results_df_s2['proportion_selected_dose_sampled'] = results_df_s2.apply(lambda x: np.mean(x['doses_sampled'] == x['selected_dose']), axis=1)\n",
    "print(f\"Accuracy for scenario 2: {round(accuracy_s2 * 100, 2)}%\")"
   ]
  },
  {
   "cell_type": "code",
   "execution_count": null,
   "metadata": {},
   "outputs": [],
   "source": [
    "def run_simulation(true_toxic_probabilities, num_sims=5000):\n",
    "    results = []\n",
    "    proportion_true_dose_sampled = []\n",
    "    for sim_run in tqdm(range(num_sims)):\n",
    "        selected_dose_idx = [0]\n",
    "        data = sim_data(0, true_toxic_probabilities)\n",
    "        X = data['doses'].values.reshape(-1, 1) # only one feature so needs to be reshaped to a column vector\n",
    "        y = data['toxicity_event']\n",
    "        only_one_class_bool = (y == 0).sum() == len(y)\n",
    "        if only_one_class_bool:\n",
    "            next_dose_idx = 2\n",
    "        elif (y == 1).sum() == len(y):\n",
    "            next_dose_idx = 0\n",
    "        else:\n",
    "            clf = LogisticRegression(random_state=0).fit(X, y)\n",
    "            predicted_prob_toxic = clf.predict_proba(doses.reshape(-1, 1))[:, 1]\n",
    "            next_dose_idx = np.argmin(np.abs(predicted_prob_toxic - 0.33))\n",
    "        selected_dose_idx.append(next_dose_idx)\n",
    "        for sample in range(11):\n",
    "            new_data = sim_data(next_dose_idx, true_toxic_probabilities)\n",
    "            data = pd.concat([data, new_data], axis=0, ignore_index=True)\n",
    "            X = data['doses'].values.reshape(-1, 1) # only one feature so needs to be reshaped to a column vector\n",
    "            y = data['toxicity_event']\n",
    "            only_one_class_bool = (y == 0).sum() == len(y)\n",
    "            if only_one_class_bool:\n",
    "                next_dose_idx = 4\n",
    "            elif (y == 1).sum() == len(y):\n",
    "                next_dose_idx = 0\n",
    "            else:\n",
    "                clf = LogisticRegression(random_state=0).fit(X, y)\n",
    "                predicted_prob_toxic = clf.predict_proba(doses.reshape(-1, 1))[:, 1]\n",
    "                next_dose_idx = np.argmin(np.abs(predicted_prob_toxic - 0.33))\n",
    "            selected_dose_idx.append(next_dose_idx)\n",
    "        results.append(next_dose_idx) # best dose for each sim\n",
    "        proportion_true_dose_sampled.append(np.array(selected_dose_idx))    \n",
    "    results_df = pd.DataFrame({\"selected_dose\":results, \"doses_sampled\":proportion_true_dose_sampled})\n",
    "    return results_df"
   ]
  },
  {
   "cell_type": "code",
   "execution_count": null,
   "metadata": {},
   "outputs": [],
   "source": [
    "results_df_s1 = run_simulation(true_toxic_prob_s1, num_sims=5000)\n",
    "accuracy_s1 = np.mean(results_df_s1['selected_dose'] == 1)\n",
    "results_df_s1['proportion_selected_dose_sampled'] = results_df_s1.apply(lambda x: np.mean(x['doses_sampled'] == x['selected_dose']), axis=1)"
   ]
  },
  {
   "cell_type": "code",
   "execution_count": null,
   "metadata": {},
   "outputs": [],
   "source": [
    "print(f\"Accuracy for scenario 1: {round(accuracy_s1 * 100, 2)}%\")\n",
    "\n",
    "reduced_df = results_df_s1.query(\"proportion_selected_dose_sampled < 0.9\")\n",
    "print(f\"rows removed: {len(results_df_s1) - len(reduced_df)}\")\n",
    "reduced_df['selected_dose'].value_counts(normalize=True)"
   ]
  },
  {
   "cell_type": "code",
   "execution_count": null,
   "metadata": {},
   "outputs": [],
   "source": [
    "results_df_s2 = run_simulation(true_toxic_prob_s2, num_sims=num_sims)\n",
    "accuracy_s2 = np.mean(results_df_s2['selected_dose'] == 3)\n",
    "results_df_s2['proportion_selected_dose_sampled'] = results_df_s2.apply(lambda x: np.mean(x['doses_sampled'] == x['selected_dose']), axis=1)"
   ]
  },
  {
   "cell_type": "code",
   "execution_count": null,
   "metadata": {},
   "outputs": [],
   "source": [
    "print(f\"Accuracy for scenario 2: {round(accuracy_s2 * 100, 2)}%\")"
   ]
  },
  {
   "cell_type": "code",
   "execution_count": null,
   "metadata": {},
   "outputs": [],
   "source": [
    "reduced_df = results_df_s2.query(\"proportion_selected_dose_sampled < 0.9\")\n",
    "print(f\"rows removed: {len(results_df_s2) - len(reduced_df)}\")\n",
    "reduced_df['selected_dose'].value_counts(normalize=True)"
   ]
  },
  {
   "cell_type": "code",
   "execution_count": null,
   "metadata": {},
   "outputs": [],
   "source": [
    "results_df_s2.query(\"selected_dose == 3\")['proportion_selected_dose_sampled'].plot.hist(bins=7, label='correct dose selected')\n",
    "results_df_s2.query(\"selected_dose != 3\")['proportion_selected_dose_sampled'].plot.hist(bins=7, label='incorrect dose selected')\n",
    "plt.xlabel(\"Proportion of Selected Dose Sampled in a Given Simulation\")\n",
    "plt.legend()"
   ]
  },
  {
   "cell_type": "code",
   "execution_count": null,
   "metadata": {},
   "outputs": [],
   "source": [
    "results_df_s1.query(\"selected_dose != 1\").loc[4995]"
   ]
  },
  {
   "cell_type": "code",
   "execution_count": null,
   "metadata": {},
   "outputs": [],
   "source": [
    "print(results_df_s1.query(\"selected_dose == 1\")['proportion_selected_dose_sampled'].mean())\n",
    "print(results_df_s2.query(\"selected_dose == 3\")['proportion_selected_dose_sampled'].mean())"
   ]
  },
  {
   "attachments": {},
   "cell_type": "markdown",
   "metadata": {},
   "source": [
    "Possible ideas:\n",
    "- hard code what proportion of samples were sampled from our selected dose.\n",
    "- Use cross-validation\n",
    "- "
   ]
  },
  {
   "cell_type": "markdown",
   "metadata": {},
   "source": [
    "# testing ideas below"
   ]
  },
  {
   "cell_type": "code",
   "execution_count": null,
   "metadata": {},
   "outputs": [],
   "source": [
    "true_toxic_probabilities = true_toxic_prob_s1\n",
    "\n",
    "results = []\n",
    "final_model = []\n",
    "proportion_sampled_of_chosen_dose = []\n",
    "chosen_doses = []\n",
    "for sim_run in tqdm(range(3000)):\n",
    "    chosen_doses_current_sim = []\n",
    "    data = sim_data(0, true_toxic_probabilities)\n",
    "    X = data['doses'].values.reshape(-1, 1) # only one feature so needs to be reshaped to a column vector\n",
    "    y = data['toxicity_event']\n",
    "    only_one_class_bool = (y == 0).sum() == len(y)\n",
    "    if only_one_class_bool:\n",
    "        next_dose_idx = 2 # used to be 4 but I changed it to 2\n",
    "    elif (y == 1).sum() == len(y):\n",
    "        next_dose_idx = 0\n",
    "    else:\n",
    "        clf = LogisticRegression(solver='lbfgs',random_state=0).fit(X, y)\n",
    "        predicted_prob_toxic = clf.predict_proba(doses.reshape(-1, 1))[:, 1]\n",
    "        next_dose_idx = np.argmin(np.abs(predicted_prob_toxic - 0.33))\n",
    "    chosen_doses_current_sim.append(doses[next_dose_idx])\n",
    "    for sample in range(11):\n",
    "        new_data = sim_data(next_dose_idx, true_toxic_probabilities)\n",
    "        data = pd.concat([data, new_data], axis=0, ignore_index=True)\n",
    "        X = data['doses'].values.reshape(-1, 1) # only one feature so needs to be reshaped to a column vector\n",
    "        y = data['toxicity_event']\n",
    "        only_one_class_bool = (y == 0).sum() == len(y)\n",
    "        if only_one_class_bool:\n",
    "            next_dose_idx = 4 \n",
    "        elif (y == 1).sum() == len(y):\n",
    "            next_dose_idx = 0\n",
    "        else:\n",
    "            clf = LogisticRegression(solver='lbfgs', random_state=0, warm_start=False).fit(X, y)\n",
    "            predicted_prob_toxic = clf.predict_proba(doses.reshape(-1, 1))[:, 1]\n",
    "            next_dose_idx = np.argmin(np.abs(predicted_prob_toxic - 0.33))\n",
    "        chosen_doses_current_sim.append(doses[next_dose_idx])\n",
    "    chosen_doses.append(chosen_doses_current_sim)\n",
    "    results.append(next_dose_idx)\n",
    "    proportion_sampled_of_chosen_dose.append(np.mean(X == doses[next_dose_idx]))\n",
    "    final_model.append(clf) # can be used for checking the fitted curve\n",
    "true_label_idx = np.argmin(np.abs(np.array(true_toxic_probabilities) - 0.33))\n",
    "results_df = pd.DataFrame({\"proportion_sampled_of_chosen_dose\":proportion_sampled_of_chosen_dose, \"selected_dose\":results})"
   ]
  },
  {
   "cell_type": "code",
   "execution_count": null,
   "metadata": {},
   "outputs": [],
   "source": []
  },
  {
   "cell_type": "code",
   "execution_count": null,
   "metadata": {},
   "outputs": [],
   "source": [
    "results_df['selected_dose'].value_counts(normalize=True)"
   ]
  },
  {
   "cell_type": "code",
   "execution_count": null,
   "metadata": {},
   "outputs": [],
   "source": [
    "results_df.query(\"selected_dose == 1\")['proportion_sampled_of_chosen_dose'].plot.hist(bins=9)\n",
    "results_df.query(\"selected_dose != 1\")['proportion_sampled_of_chosen_dose'].plot.hist(bins=9)"
   ]
  },
  {
   "cell_type": "code",
   "execution_count": null,
   "metadata": {},
   "outputs": [],
   "source": [
    "results_df.query('proportion_sampled_of_chosen_dose < 0.90')['selected_dose'].value_counts(normalize=True)"
   ]
  },
  {
   "cell_type": "code",
   "execution_count": null,
   "metadata": {},
   "outputs": [],
   "source": [
    "_, counts = np.unique(results, return_counts=True)\n",
    "percent_class_predictions = counts / sum(counts)\n",
    "percent_class_predictions"
   ]
  },
  {
   "cell_type": "code",
   "execution_count": null,
   "metadata": {},
   "outputs": [],
   "source": [
    "predicted_probabilities_reweighted = []\n",
    "for model in final_model:\n",
    "    predictions = model.predict_proba(doses.reshape(-1, 1))[:, 1]\n",
    "    predicted_probabilities_reweighted.append(predictions)"
   ]
  },
  {
   "cell_type": "code",
   "execution_count": null,
   "metadata": {},
   "outputs": [],
   "source": [
    "# looking at average over all simulations\n",
    "sns.lineplot(x=doses, y=np.mean(predicted_probabilities_reweighted, axis=0))\n",
    "plt.scatter(x=doses, y=true_toxic_prob_s1, color='red')"
   ]
  },
  {
   "cell_type": "code",
   "execution_count": null,
   "metadata": {},
   "outputs": [],
   "source": [
    "# looking at average over all simulations\n",
    "sns.lineplot(x=doses, y=np.mean(predicted_probabilities_reweighted, axis=0))\n",
    "plt.scatter(x=doses, y=true_toxic_prob_s1, color='red')"
   ]
  },
  {
   "cell_type": "code",
   "execution_count": null,
   "metadata": {},
   "outputs": [],
   "source": [
    "data.loc[30:35, 'sample_weight'] = 0.7"
   ]
  },
  {
   "cell_type": "code",
   "execution_count": null,
   "metadata": {},
   "outputs": [],
   "source": [
    "reduced_sample_data = data.query(\"doses < 5\")"
   ]
  },
  {
   "cell_type": "code",
   "execution_count": null,
   "metadata": {},
   "outputs": [],
   "source": [
    "clf = LogisticRegression(solver='lbfgs',random_state=0, warm_start=True).fit(X, y, sample_weight=data['sample_weight'])\n",
    "clf = LogisticRegression(solver='lbfgs',random_state=0, warm_start=True).fit(reduced_sample_data['doses'].values.reshape(-1, 1), reduced_sample_data['toxicity_event'])\n",
    "clf = LogisticRegression(solver='lbfgs',random_state=0, warm_start=True).fit(data['doses'].values.reshape(-1, 1), data['toxicity_event'], sample_weight=data['sample_weight'])"
   ]
  },
  {
   "cell_type": "code",
   "execution_count": null,
   "metadata": {},
   "outputs": [],
   "source": [
    "new_pred = clf.predict_proba(doses.reshape(-1, 1))[:, 1]"
   ]
  },
  {
   "cell_type": "code",
   "execution_count": null,
   "metadata": {},
   "outputs": [],
   "source": [
    "# looking at individual simulations\n",
    "sns.lineplot(x=doses, y=predicted_probabilities_reweighted[-1])\n",
    "sns.lineplot(x=doses, y=new_pred, color='k')\n",
    "plt.scatter(x=doses, y=true_toxic_prob_s1, color='red')"
   ]
  },
  {
   "cell_type": "code",
   "execution_count": null,
   "metadata": {},
   "outputs": [],
   "source": [
    "data"
   ]
  }
 ],
 "metadata": {
  "kernelspec": {
   "display_name": "pymc_env",
   "language": "python",
   "name": "python3"
  },
  "language_info": {
   "codemirror_mode": {
    "name": "ipython",
    "version": 3
   },
   "file_extension": ".py",
   "mimetype": "text/x-python",
   "name": "python",
   "nbconvert_exporter": "python",
   "pygments_lexer": "ipython3",
   "version": "3.11.3"
  }
 },
 "nbformat": 4,
 "nbformat_minor": 2
}
