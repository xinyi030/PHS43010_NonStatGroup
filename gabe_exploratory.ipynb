{
 "cells": [
  {
   "cell_type": "code",
   "execution_count": null,
   "metadata": {},
   "outputs": [],
   "source": [
    "import pandas as pd\n",
    "import numpy as np\n",
    "import matplotlib.pyplot as plt\n",
    "import statsmodels.api as sm"
   ]
  },
  {
   "cell_type": "code",
   "execution_count": null,
   "metadata": {},
   "outputs": [],
   "source": [
    "doses = [0.5, 1, 3, 5, 6] # From figure 6 and in units (mg/m^2 per day)\n",
    "true_toxic_prob_s1 = (0.25, 0.3, 0.5, 0.6, 0.7, 0.75) # Given by assignment instructions, scenario 1\n",
    "true_toxic_prob_s2 = (0.01, 0.05, 0.2, 0.3, 0.5, 0.6) # Given by assignment instructions, scenario 2"
   ]
  },
  {
   "cell_type": "code",
   "execution_count": null,
   "metadata": {},
   "outputs": [],
   "source": [
    "sm.Logit()"
   ]
  }
 ],
 "metadata": {
  "kernelspec": {
   "display_name": "sim-env",
   "language": "python",
   "name": "python3"
  },
  "language_info": {
   "codemirror_mode": {
    "name": "ipython",
    "version": 3
   },
   "file_extension": ".py",
   "mimetype": "text/x-python",
   "name": "python",
   "nbconvert_exporter": "python",
   "pygments_lexer": "ipython3",
   "version": "3.10.8"
  }
 },
 "nbformat": 4,
 "nbformat_minor": 2
}
